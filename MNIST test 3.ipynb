{
 "cells": [
  {
   "cell_type": "code",
   "execution_count": 1,
   "metadata": {},
   "outputs": [],
   "source": [
    "include(\"simple_sn.jl\")\n",
    "using Main.SNetwork"
   ]
  },
  {
   "cell_type": "code",
   "execution_count": 2,
   "metadata": {},
   "outputs": [],
   "source": [
    "using Statistics, PyPlot"
   ]
  },
  {
   "cell_type": "code",
   "execution_count": 3,
   "metadata": {},
   "outputs": [],
   "source": [
    "using MLDatasets"
   ]
  },
  {
   "cell_type": "markdown",
   "metadata": {},
   "source": [
    "Load train & test data"
   ]
  },
  {
   "cell_type": "code",
   "execution_count": 4,
   "metadata": {
    "scrolled": true
   },
   "outputs": [],
   "source": [
    "(train_x, train_y) =  MNIST.traindata()\n",
    "train_xf = collect(MNIST.convert2features(train_x)')\n",
    "train_yc = to_categorical(train_y);"
   ]
  },
  {
   "cell_type": "code",
   "execution_count": 5,
   "metadata": {
    "scrolled": true
   },
   "outputs": [],
   "source": [
    "(test_x, test_y) =  MNIST.testdata()\n",
    "test_xf = collect(MNIST.convert2features(test_x)')\n",
    "test_yc = to_categorical(test_y);"
   ]
  },
  {
   "cell_type": "code",
   "execution_count": 6,
   "metadata": {},
   "outputs": [
    {
     "data": {
      "text/plain": [
       "10"
      ]
     },
     "execution_count": 6,
     "metadata": {},
     "output_type": "execute_result"
    }
   ],
   "source": [
    "n_inputs = size(test_xf,2)\n",
    "n_hidden = 500\n",
    "n_output = size(test_yc,2)"
   ]
  },
  {
   "cell_type": "code",
   "execution_count": 7,
   "metadata": {},
   "outputs": [
    {
     "data": {
      "text/plain": [
       "3-element Array{Int64,1}:\n",
       " 784\n",
       " 500\n",
       "  10"
      ]
     },
     "execution_count": 7,
     "metadata": {},
     "output_type": "execute_result"
    }
   ],
   "source": [
    "shape = [n_inputs, n_hidden, n_output]"
   ]
  },
  {
   "cell_type": "code",
   "execution_count": 8,
   "metadata": {},
   "outputs": [
    {
     "data": {
      "text/plain": [
       "Network(Dict(4 => [0; 0; … ; 0; 0],2 => [0; 0; … ; 0; 0],3 => [0; 0; … ; 0; 0],1 => [0; 0; … ; 0; 0]), Dict(2 => [0 0 … 0 0; 0 0 … 0 0; … ; 0 0 … 0 0; 0 0 … 0 0],3 => [0 0 … 0 0; 0 0 … 0 0; … ; 0 0 … 0 0; 0 0 … 0 0],1 => [0 0 … 0 0; 0 0 … 0 0; … ; 0 0 … 0 0; 0 0 … 0 0]), Dict{Int64,Array{#s1,2} where #s1<:Real}(2 => [0.0; 0.0; … ; 0.0; 0.0],3 => [0.0; 0.0; … ; 0.0; 0.0],1 => [-1.0; -1.0; … ; -1.0; -1.0]), Dict{Tuple{Int64,Int64},Array{#s2,2} where #s2<:Real}((1, 2) => [0.8355495624984733 0.30064258901557084 … 0.19948227517988518 -2.441821214126121; -1.6449511786169062 0.7406167993012033 … 0.8716811624329476 -1.1979113507500458; … ; 0.5334927063349664 1.6427183628843909 … -0.8817403106636938 1.0418319221477121; -0.6191981659297267 -0.8495910531535572 … -0.18402863713402878 -0.8033030020882973],(2, 3) => [1.6134990692376876 -0.4310205767407506 … -0.03996224086659177 0.7974057685203397; -1.532181066766986 0.42218683291251935 … -1.019775986328751 -1.2966158399781733; … ; 0.5640487168610964 0.317691003973578 … -0.18222836617434948 1.0223353376101527; -0.3455514337607754 0.10153593544735286 … 1.1887660217602412 -0.202118922827526]), [784, 500, 10], [0.0, 0.0, 0.0, 0.0, 0.0, 0.0, 0.0, 0.0, 0.0, 0.0  …  0.0, 0.0, 0.0, 0.0, 0.0, 0.0, 0.0, 0.0, 0.0, 0.0], [0.0, 0.0, 0.0, 0.0, 0.0, 0.0, 0.0, 0.0, 0.0, 0.0], 3, [1.0, 1.0, 1.0], 0.0, 5, 0, 1000, 250, 0.0005, 0)"
      ]
     },
     "execution_count": 8,
     "metadata": {},
     "output_type": "execute_result"
    }
   ],
   "source": [
    "network = Network(shape, 0.0, 1.0, 5)"
   ]
  },
  {
   "cell_type": "code",
   "execution_count": 9,
   "metadata": {},
   "outputs": [
    {
     "data": {
      "text/plain": [
       "12.5"
      ]
     },
     "execution_count": 9,
     "metadata": {},
     "output_type": "execute_result"
    }
   ],
   "source": [
    "network.thresholds[2] = 0.9\n",
    "network.thresholds[3] = 0.025 * n_hidden"
   ]
  },
  {
   "cell_type": "code",
   "execution_count": 10,
   "metadata": {},
   "outputs": [
    {
     "data": {
      "text/plain": [
       "0.0005"
      ]
     },
     "execution_count": 10,
     "metadata": {},
     "output_type": "execute_result"
    }
   ],
   "source": [
    "network.learn_rate"
   ]
  },
  {
   "cell_type": "code",
   "execution_count": 11,
   "metadata": {},
   "outputs": [
    {
     "name": "stdout",
     "output_type": "stream",
     "text": [
      "3075.277162 seconds (212.95 M allocations: 3.690 TiB, 3.19% gc time)\n"
     ]
    },
    {
     "data": {
      "text/plain": [
       "1000-element Array{Float64,1}:\n",
       " 22.85737932849929   \n",
       "  8.63596601455663   \n",
       "  4.101277588800911  \n",
       "  2.0501285638345785 \n",
       "  2.8898878912385073 \n",
       "  3.2805200721796894 \n",
       "  2.2175067194933167 \n",
       "  2.0555167067795437 \n",
       "  1.1777958956658963 \n",
       "  2.7974487712254796 \n",
       "  2.15179742214326   \n",
       "  1.5859897942027448 \n",
       "  2.1520455528588234 \n",
       "  ⋮                  \n",
       "  0.0887595843108781 \n",
       "  0.1073312967039016 \n",
       "  0.06117266665391169\n",
       "  0.07076185758878138\n",
       "  0.15441834988532432\n",
       "  0.08512512630323496\n",
       "  0.0765299331857132 \n",
       "  0.1530383870248028 \n",
       "  0.1605750138989481 \n",
       "  0.2758937823140174 \n",
       "  0.06012237838943748\n",
       "  0.12065782100558209"
      ]
     },
     "execution_count": 11,
     "metadata": {},
     "output_type": "execute_result"
    }
   ],
   "source": [
    "err = @time train_batch(network, train_xf, train_yc, 50, 1000, 50)"
   ]
  },
  {
   "cell_type": "code",
   "execution_count": 12,
   "metadata": {},
   "outputs": [
    {
     "data": {
      "image/png": "[encoded data removed]",
      "text/plain": [
       "Figure(PyObject <Figure size 640x480 with 1 Axes>)"
      ]
     },
     "metadata": {},
     "output_type": "display_data"
    },
    {
     "data": {
      "text/plain": [
       "1-element Array{PyCall.PyObject,1}:\n",
       " PyObject <matplotlib.lines.Line2D object at 0x7fb843a1a630>"
      ]
     },
     "execution_count": 12,
     "metadata": {},
     "output_type": "execute_result"
    }
   ],
   "source": [
    "plot(err)"
   ]
  },
  {
   "cell_type": "code",
   "execution_count": 13,
   "metadata": {},
   "outputs": [
    {
     "data": {
      "text/plain": [
       "0.908"
      ]
     },
     "execution_count": 13,
     "metadata": {},
     "output_type": "execute_result"
    }
   ],
   "source": [
    "accuracy(network, test_xf, test_yc, 50)"
   ]
  },
  {
   "cell_type": "code",
   "execution_count": 14,
   "metadata": {},
   "outputs": [
    {
     "data": {
      "text/plain": [
       "Dict{Tuple{Int64,Int64},Array{#s2,2} where #s2<:Real} with 2 entries:\n",
       "  (1, 2) => [0.83555 0.300643 … 0.199482 -2.44182; -1.64495 0.740617 … 0.871681…\n",
       "  (2, 3) => [1.084 -0.772521 … -0.0954622 0.0314058; -1.45318 0.316687 … -1.124…"
      ]
     },
     "execution_count": 14,
     "metadata": {},
     "output_type": "execute_result"
    }
   ],
   "source": [
    "w1 = deepcopy(network.connections)"
   ]
  },
  {
   "cell_type": "code",
   "execution_count": 11,
   "metadata": {},
   "outputs": [
    {
     "name": "stdout",
     "output_type": "stream",
     "text": [
      "3075.277162 seconds (212.95 M allocations: 3.690 TiB, 3.19% gc time)\n"
     ]
    },
    {
     "data": {
      "text/plain": [
       "1000-element Array{Float64,1}:\n",
       " 22.85737932849929   \n",
       "  8.63596601455663   \n",
       "  4.101277588800911  \n",
       "  2.0501285638345785 \n",
       "  2.8898878912385073 \n",
       "  3.2805200721796894 \n",
       "  2.2175067194933167 \n",
       "  2.0555167067795437 \n",
       "  1.1777958956658963 \n",
       "  2.7974487712254796 \n",
       "  2.15179742214326   \n",
       "  1.5859897942027448 \n",
       "  2.1520455528588234 \n",
       "  ⋮                  \n",
       "  0.0887595843108781 \n",
       "  0.1073312967039016 \n",
       "  0.06117266665391169\n",
       "  0.07076185758878138\n",
       "  0.15441834988532432\n",
       "  0.08512512630323496\n",
       "  0.0765299331857132 \n",
       "  0.1530383870248028 \n",
       "  0.1605750138989481 \n",
       "  0.2758937823140174 \n",
       "  0.06012237838943748\n",
       "  0.12065782100558209"
      ]
     },
     "execution_count": 11,
     "metadata": {},
     "output_type": "execute_result"
    }
   ],
   "source": [
    "err2 = @time train_batch(network, train_xf, train_yc, 50, 1000, 50)"
   ]
  },
  {
   "cell_type": "code",
   "execution_count": null,
   "metadata": {},
   "outputs": [],
   "source": []
  }
 ],
 "metadata": {
  "kernelspec": {
   "display_name": "Julia 1.3.1",
   "language": "julia",
   "name": "julia-1.3"
  },
  "language_info": {
   "file_extension": ".jl",
   "mimetype": "application/julia",
   "name": "julia",
   "version": "1.3.1"
  }
 },
 "nbformat": 4,
 "nbformat_minor": 2
}
